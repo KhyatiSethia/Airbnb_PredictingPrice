{
 "cells": [
  {
   "cell_type": "markdown",
   "metadata": {},
   "source": [
    "# Airbnb_DataSource_n_DataWrangling"
   ]
  },
  {
   "cell_type": "markdown",
   "metadata": {},
   "source": [
    "#### Data Load\n",
    "In this file we uncompress and load the data. After loading the data, we inspect it.\n",
    "#### Feature Engineering\n",
    "We perform feature engineering like:\n",
    "<ul>\n",
    "<li> Removing '$' sign from all price columns. </li>\n",
    "<li> Removing outliers using quantiles. </li>\n",
    "<li> Creating Price Groups (using quantiles): low, medium, high. </li>\n",
    "<li> Removing columns containing high percentage of null values: ['thumbnail_url', 'medium_url', 'xl_picture_url', 'host_acceptance_rate', 'neighbourhood_group_cleansed', 'jurisdiction_names', 'license', 'square_feet', 'monthly_price', 'weekly_price', 'notes', 'access', 'host_about', 'interaction', 'house_rules', 'transit', 'neighborhood_overview', 'security_deposit', 'space']. </li>\n",
    "<li> Dropping not useful columns: ['listing_url' , 'picture_url', 'host_url', 'host_thumbnail_url', 'host_picture_url', 'scrape_id', 'last_scraped', 'is_location_exact', 'calendar_last_scraped', 'minimum_minimum_nights', 'maximum_minimum_nights', 'minimum_maximum_nights','maximum_maximum_nights', 'minimum_nights_avg_ntm','maximum_nights_avg_ntm', 'calendar_updated','requires_license']. </li>\n",
    "<li> Change column types </li>\n",
    "<li> Removing data that doesn't look like error: Dropping minimum nights that are way to high, 0 beds, 0 bathrooms, 0 price, 0 bedrooms. </li>\n",
    "<li> Encoding Categorical features to numerical type. </li>\n",
    "<li> Correlation among features. </li>\n",
    "<li> Removing similar (duplicate) features. </li>\n",
    "<li> Filling missing values: 0 cleaning fee where blank.</li>\n",
    "</ul>"
   ]
  },
  {
   "cell_type": "markdown",
   "metadata": {},
   "source": [
    " "
   ]
  },
  {
   "cell_type": "markdown",
   "metadata": {},
   "source": [
    "# Airbnb_ExploratoryDataAnalysis"
   ]
  },
  {
   "cell_type": "markdown",
   "metadata": {},
   "source": [
    "#### EDA\n",
    "We get insights from graphs like:\n",
    "<ul>\n",
    "    <li> Price frequency. We also look at max and min price per night in Airbnb. </li>\n",
    "    <li> Frequency of listings in each neighbourhood. Frequency of Property type</li>\n",
    "    <li> Price vs Number of Reviews: Lower the price more are the number of reviews. </li>\n",
    "    <li> Price vs Minimum nights: No correlation. </li>\n",
    "    <li> Price vs Room type: Prices are high for entire apt followed by private rooms and then shared rooms. Relationship exists. </li>\n",
    "    <li> Number of Listings vs Price: No strong correlation. </li>\n",
    "    <li> Availability vs Price: No strong correlation. </li>\n",
    "</ul>"
   ]
  },
  {
   "cell_type": "markdown",
   "metadata": {},
   "source": [
    " "
   ]
  },
  {
   "cell_type": "markdown",
   "metadata": {},
   "source": [
    "# Airbnb_Spatial"
   ]
  },
  {
   "cell_type": "markdown",
   "metadata": {},
   "source": [
    "#### Google Map to show Price by Location\n",
    "Google map shows price is more in the city centre and decreases as we go far from the centre. Also, there are more listings in the centre. \n",
    "\n",
    "#### Geo Spatial Analysis (in development phase)\n",
    "To analyse the spatial data by geocoding and analysing dependencies/relation of price with the neighbourhood using geo visualization."
   ]
  },
  {
   "cell_type": "markdown",
   "metadata": {},
   "source": [
    "  "
   ]
  },
  {
   "cell_type": "markdown",
   "metadata": {},
   "source": [
    "# Airbnb_DecisionTreeClassification"
   ]
  },
  {
   "cell_type": "markdown",
   "metadata": {},
   "source": [
    "#### Predictors of Price \n",
    "###### (Can be used to be a Successful Host to plan listing price with best profit); (Can be used by the buyer to find the appropriate price according to their requirements)."
   ]
  },
  {
   "cell_type": "markdown",
   "metadata": {},
   "source": [
    "<ul>\n",
    "    <li> We select the following features: 'minimum_nights','number_of_reviews','calculated_host_listings_count','availability_365','room_type_num'. </li>\n",
    "    <li> Split data into training and testing. </li>\n",
    "    <li> By using Decision Tree Classifier, we train the model to predict the price group </li>\n",
    "    <li> Using model we also find the importance of the independent features: the most important variable is room_type_num followed by bedroooms, cleaning fee. This supports our exploratory data analysis. </li>\n",
    "</ul>"
   ]
  },
  {
   "cell_type": "markdown",
   "metadata": {},
   "source": [
    " "
   ]
  },
  {
   "cell_type": "markdown",
   "metadata": {},
   "source": [
    "# Future Work\n",
    "<ul>\n",
    "<li> To analyze the columns which we dropped because of missing values and handle missing values if possible. </li>\n",
    "<li> Convert longitude and latitude to Geohash codes/ Geoencoding and perform spatial analysis.  </li>\n",
    "<li> Perform clustering to find similar listings based on this spatial analysis. Use the cluster number information in supervised modeling. </li>\n",
    "<li> To train data with different regression models and predict price which will be useful for the host. </li>\n",
    "<li> To check the influence of following parameters on price: \"experience_offered\", \"host_since\", \"host_response_time\", \"host_response_rate\", \"host_is_superhost\", \"host_verification\", \"host_has_profile_pic\", \"property_type\", \"bed_type\", \"extra_people\", \"number_of_reviews\", \"number_of_reviews_ltm\", \"first_review\", \"last_review\" (by extracting year, month), \"review_scores_rating\", \"review_scores_accuracy\", \"review_scores_cleanliness\", \"review_scores_checkin\", \"review_scores_communication\", \"review_scores_location\", \"review_scores_value\", \"calculated_host_listings_count\", \"calculated_host_listings_count_entire_homes\"  \"calculated_host_listings_count_private_rooms\", \"calculated_host_listings_count_shared_rooms\", \"reviews_per_month\". </li>\n",
    "<li> Text mining on amenities. Use amenities to predict price. This will definitely be a influencer for predicting price. </li>\n",
    "<li> Text mining on the name and description to find influence on price. </li>\n",
    "<li> To collect external data of how many times the host has had successful bookings. </li>\n",
    "<li> to train model to predict number of reviews (which we take as a substitute of successful bookings) and find the influential features. </li>\n",
    "</ul>"
   ]
  },
  {
   "cell_type": "markdown",
   "metadata": {},
   "source": [
    "  "
   ]
  }
 ],
 "metadata": {
  "kernelspec": {
   "display_name": "Python 3",
   "language": "python",
   "name": "python3"
  },
  "language_info": {
   "codemirror_mode": {
    "name": "ipython",
    "version": 3
   },
   "file_extension": ".py",
   "mimetype": "text/x-python",
   "name": "python",
   "nbconvert_exporter": "python",
   "pygments_lexer": "ipython3",
   "version": "3.7.3"
  }
 },
 "nbformat": 4,
 "nbformat_minor": 2
}
